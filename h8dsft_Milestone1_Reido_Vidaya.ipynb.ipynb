{
 "cells": [
  {
   "cell_type": "markdown",
   "metadata": {},
   "source": [
    "# I. Perkenalan\n",
    "Nama : Reido Vidaya Mahardika  \n",
    "Batch : 040  \n",
    "Tableau : https://public.tableau.com/views/Usedcar_vis/Model?:language=en-GB&:sid=&:redirect=auth&:display_count=n&:origin=viz_share_link"
   ]
  },
  {
   "cell_type": "markdown",
   "metadata": {},
   "source": [
    "# II. Identifikasi Masalah\n",
    "\n",
    "Problem Statement: Sebagai data analyst saya ingin mengetahui faktor apa saja yang mempengaruhi harga mobil bekas pada beberapa model mobil mercedes. saya juga ingin memberikan referensi kepada penjual maupun pembeli mobil bekas untuk bisa mengetahui hal apa saja yang harus diperhatikan ketika ingin membeli atau menjual mobil bekas. Pada analisis ini saya ingin mengetahui apakah model, tahun produksi, jenis transmisi dan jumlah mileage berpengaruh terhadap harga mobil\n",
    "\n",
    "Specific : Analisis faktor apa saja yang mempengaruhi harga mobil bekas mercedes.\n",
    "\n",
    "Measurable : Menghitung faktor yang mempengaruhi harga mobil bekas mercedes.\n",
    "\n",
    "Achieveable :  Dengan menghitung harga berdasarkan model, jenis transmisi, jumlah mileage dan tahun produksi maka dapat diketahui faktor yang mempengaruhi harga mobil bekas mercedes.\n",
    "\n",
    "Relevant : Analisis ini dapat digunakan showroom mobil untuk mengambil keputusan terkait harga jual dan beli mobil bekas. Untuk pembeli juga dapat digunakan sebagai refrensi untuk membeli mobil bekas terutama brand mercedes\n",
    "\n",
    "Time-bound : Analysis dilakukan berdasarkan tahun produksi mobil dari 2012 sampai 2020.\n",
    "  "
   ]
  },
  {
   "cell_type": "markdown",
   "metadata": {},
   "source": [
    "# III. Data Loading"
   ]
  },
  {
   "cell_type": "code",
   "execution_count": 3,
   "metadata": {},
   "outputs": [],
   "source": [
    "import pandas as pd\n",
    "import matplotlib.pyplot as plt\n",
    "import seaborn as sns\n",
    "import numpy as np\n",
    "import scipy.stats as stats"
   ]
  },
  {
   "cell_type": "code",
   "execution_count": 4,
   "metadata": {},
   "outputs": [],
   "source": [
    "import pandas as pd\n",
    "df = pd.read_csv('merc.csv')"
   ]
  },
  {
   "cell_type": "code",
   "execution_count": null,
   "metadata": {},
   "outputs": [
    {
     "data": {
      "text/html": [
       "<div>\n",
       "<style scoped>\n",
       "    .dataframe tbody tr th:only-of-type {\n",
       "        vertical-align: middle;\n",
       "    }\n",
       "\n",
       "    .dataframe tbody tr th {\n",
       "        vertical-align: top;\n",
       "    }\n",
       "\n",
       "    .dataframe thead th {\n",
       "        text-align: right;\n",
       "    }\n",
       "</style>\n",
       "<table border=\"1\" class=\"dataframe\">\n",
       "  <thead>\n",
       "    <tr style=\"text-align: right;\">\n",
       "      <th></th>\n",
       "      <th>model</th>\n",
       "      <th>year</th>\n",
       "      <th>price</th>\n",
       "      <th>transmission</th>\n",
       "      <th>mileage</th>\n",
       "      <th>fuelType</th>\n",
       "      <th>tax</th>\n",
       "      <th>mpg</th>\n",
       "      <th>engineSize</th>\n",
       "    </tr>\n",
       "  </thead>\n",
       "  <tbody>\n",
       "    <tr>\n",
       "      <th>0</th>\n",
       "      <td>SLK</td>\n",
       "      <td>2005</td>\n",
       "      <td>5200</td>\n",
       "      <td>Automatic</td>\n",
       "      <td>63000</td>\n",
       "      <td>Petrol</td>\n",
       "      <td>325</td>\n",
       "      <td>32.1</td>\n",
       "      <td>1.8</td>\n",
       "    </tr>\n",
       "    <tr>\n",
       "      <th>1</th>\n",
       "      <td>S Class</td>\n",
       "      <td>2017</td>\n",
       "      <td>34948</td>\n",
       "      <td>Automatic</td>\n",
       "      <td>27000</td>\n",
       "      <td>Hybrid</td>\n",
       "      <td>20</td>\n",
       "      <td>61.4</td>\n",
       "      <td>2.1</td>\n",
       "    </tr>\n",
       "    <tr>\n",
       "      <th>2</th>\n",
       "      <td>SL CLASS</td>\n",
       "      <td>2016</td>\n",
       "      <td>49948</td>\n",
       "      <td>Automatic</td>\n",
       "      <td>6200</td>\n",
       "      <td>Petrol</td>\n",
       "      <td>555</td>\n",
       "      <td>28.0</td>\n",
       "      <td>5.5</td>\n",
       "    </tr>\n",
       "    <tr>\n",
       "      <th>3</th>\n",
       "      <td>G Class</td>\n",
       "      <td>2016</td>\n",
       "      <td>61948</td>\n",
       "      <td>Automatic</td>\n",
       "      <td>16000</td>\n",
       "      <td>Petrol</td>\n",
       "      <td>325</td>\n",
       "      <td>30.4</td>\n",
       "      <td>4.0</td>\n",
       "    </tr>\n",
       "    <tr>\n",
       "      <th>4</th>\n",
       "      <td>G Class</td>\n",
       "      <td>2016</td>\n",
       "      <td>73948</td>\n",
       "      <td>Automatic</td>\n",
       "      <td>4000</td>\n",
       "      <td>Petrol</td>\n",
       "      <td>325</td>\n",
       "      <td>30.1</td>\n",
       "      <td>4.0</td>\n",
       "    </tr>\n",
       "  </tbody>\n",
       "</table>\n",
       "</div>"
      ],
      "text/plain": [
       "       model  year  price transmission  mileage fuelType  tax   mpg  \\\n",
       "0        SLK  2005   5200    Automatic    63000   Petrol  325  32.1   \n",
       "1    S Class  2017  34948    Automatic    27000   Hybrid   20  61.4   \n",
       "2   SL CLASS  2016  49948    Automatic     6200   Petrol  555  28.0   \n",
       "3    G Class  2016  61948    Automatic    16000   Petrol  325  30.4   \n",
       "4    G Class  2016  73948    Automatic     4000   Petrol  325  30.1   \n",
       "\n",
       "   engineSize  \n",
       "0         1.8  \n",
       "1         2.1  \n",
       "2         5.5  \n",
       "3         4.0  \n",
       "4         4.0  "
      ]
     },
     "execution_count": 3,
     "metadata": {},
     "output_type": "execute_result"
    }
   ],
   "source": [
    "#cek df\n",
    "df.head()"
   ]
  },
  {
   "cell_type": "code",
   "execution_count": null,
   "metadata": {},
   "outputs": [
    {
     "name": "stdout",
     "output_type": "stream",
     "text": [
      "<class 'pandas.core.frame.DataFrame'>\n",
      "RangeIndex: 13119 entries, 0 to 13118\n",
      "Data columns (total 9 columns):\n",
      " #   Column        Non-Null Count  Dtype  \n",
      "---  ------        --------------  -----  \n",
      " 0   model         13119 non-null  object \n",
      " 1   year          13119 non-null  int64  \n",
      " 2   price         13119 non-null  int64  \n",
      " 3   transmission  13119 non-null  object \n",
      " 4   mileage       13119 non-null  int64  \n",
      " 5   fuelType      13119 non-null  object \n",
      " 6   tax           13119 non-null  int64  \n",
      " 7   mpg           13119 non-null  float64\n",
      " 8   engineSize    13119 non-null  float64\n",
      "dtypes: float64(2), int64(4), object(3)\n",
      "memory usage: 922.6+ KB\n"
     ]
    }
   ],
   "source": [
    "# cek summary dan missing value\n",
    "df.info()"
   ]
  },
  {
   "cell_type": "code",
   "execution_count": null,
   "metadata": {},
   "outputs": [
    {
     "data": {
      "text/plain": [
       "Index(['model', 'year', 'price', 'transmission', 'mileage', 'fuelType', 'tax',\n",
       "       'mpg', 'engineSize'],\n",
       "      dtype='object')"
      ]
     },
     "execution_count": 5,
     "metadata": {},
     "output_type": "execute_result"
    }
   ],
   "source": [
    "df.columns"
   ]
  },
  {
   "cell_type": "code",
   "execution_count": null,
   "metadata": {},
   "outputs": [
    {
     "data": {
      "text/plain": [
       "array([' SLK', ' S Class', ' SL CLASS', ' G Class', ' GLE Class',\n",
       "       ' GLA Class', ' A Class', ' B Class', ' GLC Class', ' C Class',\n",
       "       ' E Class', ' GL Class', ' CLS Class', ' CLC Class', ' CLA Class',\n",
       "       ' V Class', ' M Class', ' CL Class', ' GLS Class', ' GLB Class',\n",
       "       ' X-CLASS', '180', ' CLK', ' R Class', '230', '220', '200'],\n",
       "      dtype=object)"
      ]
     },
     "execution_count": 6,
     "metadata": {},
     "output_type": "execute_result"
    }
   ],
   "source": [
    "df['model'].unique()\n"
   ]
  },
  {
   "cell_type": "code",
   "execution_count": null,
   "metadata": {},
   "outputs": [
    {
     "data": {
      "text/plain": [
       "array([2005, 2017, 2016, 2011, 2018, 2012, 2019, 2020, 2014, 2015, 2006,\n",
       "       2010, 2004, 2008, 2013, 2007, 2009, 2003, 2001, 2002, 1998, 2000,\n",
       "       1997, 1999, 1970], dtype=int64)"
      ]
     },
     "execution_count": 7,
     "metadata": {},
     "output_type": "execute_result"
    }
   ],
   "source": [
    "df['year'].unique()"
   ]
  },
  {
   "cell_type": "code",
   "execution_count": null,
   "metadata": {},
   "outputs": [
    {
     "data": {
      "text/plain": [
       "array([ 5200, 34948, 49948, ..., 34459, 25829, 19344], dtype=int64)"
      ]
     },
     "execution_count": 8,
     "metadata": {},
     "output_type": "execute_result"
    }
   ],
   "source": [
    "df['price'].unique()"
   ]
  },
  {
   "cell_type": "code",
   "execution_count": null,
   "metadata": {},
   "outputs": [
    {
     "data": {
      "text/plain": [
       "array(['Automatic', 'Manual', 'Semi-Auto', 'Other'], dtype=object)"
      ]
     },
     "execution_count": 9,
     "metadata": {},
     "output_type": "execute_result"
    }
   ],
   "source": [
    "df['transmission'].unique()"
   ]
  },
  {
   "cell_type": "code",
   "execution_count": null,
   "metadata": {},
   "outputs": [
    {
     "data": {
      "text/plain": [
       "array([63000, 27000,  6200, ..., 11442, 11612,  2426], dtype=int64)"
      ]
     },
     "execution_count": 10,
     "metadata": {},
     "output_type": "execute_result"
    }
   ],
   "source": [
    "df['mileage'].unique()"
   ]
  },
  {
   "cell_type": "code",
   "execution_count": null,
   "metadata": {},
   "outputs": [
    {
     "data": {
      "text/plain": [
       "array(['Petrol', 'Hybrid', 'Diesel', 'Other'], dtype=object)"
      ]
     },
     "execution_count": 11,
     "metadata": {},
     "output_type": "execute_result"
    }
   ],
   "source": [
    "df['fuelType'].unique()"
   ]
  },
  {
   "cell_type": "code",
   "execution_count": null,
   "metadata": {},
   "outputs": [
    {
     "data": {
      "text/plain": [
       "array([325,  20, 555, 570, 145, 265,  30, 125, 150, 165, 330, 205, 160,\n",
       "       300, 240, 280, 200, 190, 140, 315, 270, 305, 235, 260, 135,   0,\n",
       "       580, 565,  10, 115, 230, 290, 220, 540, 195, 520, 250, 255, 185,\n",
       "       210], dtype=int64)"
      ]
     },
     "execution_count": 12,
     "metadata": {},
     "output_type": "execute_result"
    }
   ],
   "source": [
    "df['tax'].unique()"
   ]
  },
  {
   "cell_type": "code",
   "execution_count": null,
   "metadata": {},
   "outputs": [
    {
     "data": {
      "text/plain": [
       "array([ 32.1,  61.4,  28. ,  30.4,  30.1,  21.4,  47.9,  36.7,  64.2,\n",
       "        35.8,  62.8,  55.4,  21.7,  56.6,  68.9,  60.1,  29.5,  51.4,\n",
       "        52.3,  36.2,  70.6,  49.6,  54.3,  45.6,  65.7,  44.8,  56.5,\n",
       "        43.5,  41.5,  57.7,  67.3,  34. ,  29.1,  40.9,  34.4,  42.8,\n",
       "        35.3,  44.1,  28.8,  37.7,  42.4,  53.3,  37.2,  33.2,  32.5,\n",
       "        47.1,  28.5,  46.3,  58.9,  32.8,  48.7, 134.5,  50.4,  42.2,\n",
       "        72.4,  25.2,  74.3,  39.2,  23.5,  38.2,  31.4,  32.9, 122.8,\n",
       "        33.6,  76.4,  31.7,  78.5,  34.5,  22.6,  39.8,  40.4,  27.4,\n",
       "        80.7,  29.4,  31. ,  29.7,  23.9, 122.9,  26.4,   1.1,  22.1,\n",
       "        24.8,  21.6,  22.4,  28.3,  23. ,  33.7,  11. , 176.6,  27.7,\n",
       "        27.2,  24.6,  24.1,  20.5, 188.3, 217.3,  38.7,  23.7,  26.7,\n",
       "       100.9,  57.6,  53.5,  34.9,  55. ,  22.2,  30.7,  20. , 201.8,\n",
       "        28.2,  23.3,  21.1,  19. ,  17.8,  44.6,  30. ,  25.5,  40. ,\n",
       "        19.8,  22.3,  19.5])"
      ]
     },
     "execution_count": 13,
     "metadata": {},
     "output_type": "execute_result"
    }
   ],
   "source": [
    "df['mpg'].unique()"
   ]
  },
  {
   "cell_type": "code",
   "execution_count": null,
   "metadata": {},
   "outputs": [
    {
     "data": {
      "text/plain": [
       "array([1.8, 2.1, 5.5, 4. , 6.2, 3.5, 2. , 1.5, 3. , 1.3, 2.9, 4.7, 2.5,\n",
       "       1.6, 2.2, 2.3, 6. , 3.2, 0. , 5. , 2.7, 3.7, 5.4, 4.3, 1.7, 1.4])"
      ]
     },
     "execution_count": 14,
     "metadata": {},
     "output_type": "execute_result"
    }
   ],
   "source": [
    "df['engineSize'].unique()"
   ]
  },
  {
   "cell_type": "markdown",
   "metadata": {},
   "source": [
    "ada whitespace pada kolom model harus dicleaning"
   ]
  },
  {
   "cell_type": "markdown",
   "metadata": {},
   "source": [
    "# IV. Data Cleaning"
   ]
  },
  {
   "cell_type": "code",
   "execution_count": null,
   "metadata": {},
   "outputs": [
    {
     "name": "stdout",
     "output_type": "stream",
     "text": [
      "<class 'pandas.core.frame.DataFrame'>\n",
      "RangeIndex: 13119 entries, 0 to 13118\n",
      "Data columns (total 9 columns):\n",
      " #   Column        Non-Null Count  Dtype  \n",
      "---  ------        --------------  -----  \n",
      " 0   model         13119 non-null  object \n",
      " 1   year          13119 non-null  int64  \n",
      " 2   price         13119 non-null  int64  \n",
      " 3   transmission  13119 non-null  object \n",
      " 4   mileage       13119 non-null  int64  \n",
      " 5   fuelType      13119 non-null  object \n",
      " 6   tax           13119 non-null  int64  \n",
      " 7   mpg           13119 non-null  float64\n",
      " 8   engineSize    13119 non-null  float64\n",
      "dtypes: float64(2), int64(4), object(3)\n",
      "memory usage: 922.6+ KB\n"
     ]
    }
   ],
   "source": [
    "df.info()"
   ]
  },
  {
   "cell_type": "code",
   "execution_count": 5,
   "metadata": {},
   "outputs": [],
   "source": [
    "#drop kolom yang mempunyai value 'other'\n",
    "df = df.drop(df[(df['transmission'] == 'Other') | (df['fuelType'] == 'Other')].index)\n",
    "df = df.reset_index(drop=True)"
   ]
  },
  {
   "cell_type": "code",
   "execution_count": null,
   "metadata": {},
   "outputs": [
    {
     "name": "stdout",
     "output_type": "stream",
     "text": [
      "<class 'pandas.core.frame.DataFrame'>\n",
      "RangeIndex: 13111 entries, 0 to 13110\n",
      "Data columns (total 9 columns):\n",
      " #   Column        Non-Null Count  Dtype  \n",
      "---  ------        --------------  -----  \n",
      " 0   model         13111 non-null  object \n",
      " 1   year          13111 non-null  int64  \n",
      " 2   price         13111 non-null  int64  \n",
      " 3   transmission  13111 non-null  object \n",
      " 4   mileage       13111 non-null  int64  \n",
      " 5   fuelType      13111 non-null  object \n",
      " 6   tax           13111 non-null  int64  \n",
      " 7   mpg           13111 non-null  float64\n",
      " 8   engineSize    13111 non-null  float64\n",
      "dtypes: float64(2), int64(4), object(3)\n",
      "memory usage: 922.0+ KB\n"
     ]
    }
   ],
   "source": [
    "df.info()"
   ]
  },
  {
   "cell_type": "code",
   "execution_count": 6,
   "metadata": {},
   "outputs": [
    {
     "data": {
      "text/html": [
       "<div>\n",
       "<style scoped>\n",
       "    .dataframe tbody tr th:only-of-type {\n",
       "        vertical-align: middle;\n",
       "    }\n",
       "\n",
       "    .dataframe tbody tr th {\n",
       "        vertical-align: top;\n",
       "    }\n",
       "\n",
       "    .dataframe thead th {\n",
       "        text-align: right;\n",
       "    }\n",
       "</style>\n",
       "<table border=\"1\" class=\"dataframe\">\n",
       "  <thead>\n",
       "    <tr style=\"text-align: right;\">\n",
       "      <th></th>\n",
       "      <th>Model</th>\n",
       "      <th>Year</th>\n",
       "      <th>Price</th>\n",
       "      <th>Transmission</th>\n",
       "      <th>Mileage</th>\n",
       "      <th>Fuel Type</th>\n",
       "      <th>Tax</th>\n",
       "      <th>Fuel Efficiency</th>\n",
       "      <th>Engine Size</th>\n",
       "    </tr>\n",
       "  </thead>\n",
       "  <tbody>\n",
       "    <tr>\n",
       "      <th>0</th>\n",
       "      <td>SLK</td>\n",
       "      <td>2005</td>\n",
       "      <td>5200</td>\n",
       "      <td>Automatic</td>\n",
       "      <td>63000</td>\n",
       "      <td>Petrol</td>\n",
       "      <td>325</td>\n",
       "      <td>32.1</td>\n",
       "      <td>1.8</td>\n",
       "    </tr>\n",
       "    <tr>\n",
       "      <th>1</th>\n",
       "      <td>S Class</td>\n",
       "      <td>2017</td>\n",
       "      <td>34948</td>\n",
       "      <td>Automatic</td>\n",
       "      <td>27000</td>\n",
       "      <td>Hybrid</td>\n",
       "      <td>20</td>\n",
       "      <td>61.4</td>\n",
       "      <td>2.1</td>\n",
       "    </tr>\n",
       "    <tr>\n",
       "      <th>2</th>\n",
       "      <td>SL CLASS</td>\n",
       "      <td>2016</td>\n",
       "      <td>49948</td>\n",
       "      <td>Automatic</td>\n",
       "      <td>6200</td>\n",
       "      <td>Petrol</td>\n",
       "      <td>555</td>\n",
       "      <td>28.0</td>\n",
       "      <td>5.5</td>\n",
       "    </tr>\n",
       "    <tr>\n",
       "      <th>3</th>\n",
       "      <td>G Class</td>\n",
       "      <td>2016</td>\n",
       "      <td>61948</td>\n",
       "      <td>Automatic</td>\n",
       "      <td>16000</td>\n",
       "      <td>Petrol</td>\n",
       "      <td>325</td>\n",
       "      <td>30.4</td>\n",
       "      <td>4.0</td>\n",
       "    </tr>\n",
       "    <tr>\n",
       "      <th>4</th>\n",
       "      <td>G Class</td>\n",
       "      <td>2016</td>\n",
       "      <td>73948</td>\n",
       "      <td>Automatic</td>\n",
       "      <td>4000</td>\n",
       "      <td>Petrol</td>\n",
       "      <td>325</td>\n",
       "      <td>30.1</td>\n",
       "      <td>4.0</td>\n",
       "    </tr>\n",
       "    <tr>\n",
       "      <th>...</th>\n",
       "      <td>...</td>\n",
       "      <td>...</td>\n",
       "      <td>...</td>\n",
       "      <td>...</td>\n",
       "      <td>...</td>\n",
       "      <td>...</td>\n",
       "      <td>...</td>\n",
       "      <td>...</td>\n",
       "      <td>...</td>\n",
       "    </tr>\n",
       "    <tr>\n",
       "      <th>13106</th>\n",
       "      <td>C Class</td>\n",
       "      <td>2020</td>\n",
       "      <td>35999</td>\n",
       "      <td>Automatic</td>\n",
       "      <td>500</td>\n",
       "      <td>Diesel</td>\n",
       "      <td>145</td>\n",
       "      <td>55.4</td>\n",
       "      <td>2.0</td>\n",
       "    </tr>\n",
       "    <tr>\n",
       "      <th>13107</th>\n",
       "      <td>B Class</td>\n",
       "      <td>2020</td>\n",
       "      <td>24699</td>\n",
       "      <td>Automatic</td>\n",
       "      <td>2500</td>\n",
       "      <td>Diesel</td>\n",
       "      <td>145</td>\n",
       "      <td>55.4</td>\n",
       "      <td>2.0</td>\n",
       "    </tr>\n",
       "    <tr>\n",
       "      <th>13108</th>\n",
       "      <td>GLC Class</td>\n",
       "      <td>2019</td>\n",
       "      <td>30999</td>\n",
       "      <td>Automatic</td>\n",
       "      <td>11612</td>\n",
       "      <td>Diesel</td>\n",
       "      <td>145</td>\n",
       "      <td>41.5</td>\n",
       "      <td>2.1</td>\n",
       "    </tr>\n",
       "    <tr>\n",
       "      <th>13109</th>\n",
       "      <td>CLS Class</td>\n",
       "      <td>2019</td>\n",
       "      <td>37990</td>\n",
       "      <td>Automatic</td>\n",
       "      <td>2426</td>\n",
       "      <td>Diesel</td>\n",
       "      <td>145</td>\n",
       "      <td>45.6</td>\n",
       "      <td>2.0</td>\n",
       "    </tr>\n",
       "    <tr>\n",
       "      <th>13110</th>\n",
       "      <td>S Class</td>\n",
       "      <td>2019</td>\n",
       "      <td>54999</td>\n",
       "      <td>Automatic</td>\n",
       "      <td>2075</td>\n",
       "      <td>Diesel</td>\n",
       "      <td>145</td>\n",
       "      <td>52.3</td>\n",
       "      <td>2.9</td>\n",
       "    </tr>\n",
       "  </tbody>\n",
       "</table>\n",
       "<p>13111 rows × 9 columns</p>\n",
       "</div>"
      ],
      "text/plain": [
       "            Model  Year  Price Transmission  Mileage Fuel Type  Tax  \\\n",
       "0             SLK  2005   5200    Automatic    63000    Petrol  325   \n",
       "1         S Class  2017  34948    Automatic    27000    Hybrid   20   \n",
       "2        SL CLASS  2016  49948    Automatic     6200    Petrol  555   \n",
       "3         G Class  2016  61948    Automatic    16000    Petrol  325   \n",
       "4         G Class  2016  73948    Automatic     4000    Petrol  325   \n",
       "...           ...   ...    ...          ...      ...       ...  ...   \n",
       "13106     C Class  2020  35999    Automatic      500    Diesel  145   \n",
       "13107     B Class  2020  24699    Automatic     2500    Diesel  145   \n",
       "13108   GLC Class  2019  30999    Automatic    11612    Diesel  145   \n",
       "13109   CLS Class  2019  37990    Automatic     2426    Diesel  145   \n",
       "13110     S Class  2019  54999    Automatic     2075    Diesel  145   \n",
       "\n",
       "       Fuel Efficiency  Engine Size  \n",
       "0                 32.1          1.8  \n",
       "1                 61.4          2.1  \n",
       "2                 28.0          5.5  \n",
       "3                 30.4          4.0  \n",
       "4                 30.1          4.0  \n",
       "...                ...          ...  \n",
       "13106             55.4          2.0  \n",
       "13107             55.4          2.0  \n",
       "13108             41.5          2.1  \n",
       "13109             45.6          2.0  \n",
       "13110             52.3          2.9  \n",
       "\n",
       "[13111 rows x 9 columns]"
      ]
     },
     "execution_count": 6,
     "metadata": {},
     "output_type": "execute_result"
    }
   ],
   "source": [
    "#mengubah nama kolom dan perbaikan kapital di huruf pertama\n",
    "df.columns = df.columns.str.title()\n",
    "df =df.rename(columns={'Fueltype' : 'Fuel Type',\n",
    "                        'Enginesize' : 'Engine Size',\n",
    "                        'Mpg' : 'Fuel Efficiency'})\n",
    "df"
   ]
  },
  {
   "cell_type": "code",
   "execution_count": 7,
   "metadata": {},
   "outputs": [
    {
     "data": {
      "text/plain": [
       "array(['SLK', 'S Class', 'SL CLASS', 'G Class', 'GLE Class', 'GLA Class',\n",
       "       'A Class', 'B Class', 'GLC Class', 'C Class', 'E Class',\n",
       "       'GL Class', 'CLS Class', 'CLC Class', 'CLA Class', 'V Class',\n",
       "       'M Class', 'CL Class', 'GLS Class', 'GLB Class', 'X-CLASS', '180',\n",
       "       'CLK', 'R Class', '230', '220', '200'], dtype=object)"
      ]
     },
     "execution_count": 7,
     "metadata": {},
     "output_type": "execute_result"
    }
   ],
   "source": [
    "# menghilangkan whitespace \n",
    "df['Model'] = df['Model'].str.strip()\n",
    "df['Model'].unique()"
   ]
  },
  {
   "cell_type": "code",
   "execution_count": 8,
   "metadata": {},
   "outputs": [
    {
     "name": "stdout",
     "output_type": "stream",
     "text": [
      "standar deviasi tahun produksi: 2.224992454114769\n",
      "Skewness: -2.898802203043244\n"
     ]
    }
   ],
   "source": [
    "std = df['Year'].std()\n",
    "print('standar deviasi tahun produksi:',std)\n",
    "print(f\"Skewness: {df['Year'].skew()}\")"
   ]
  },
  {
   "cell_type": "markdown",
   "metadata": {},
   "source": [
    "Dari perhitungan standar deviasi pada kolom harga produk terindikasi banyaknya variasi dalam data dan terindikasi adanya outlier  \n",
    "Dari perhitungan skewness pada kolom harga produk menunjukan nilai yang tinggi dikarenakan dibawah -1 (highly skewed) dan ini menandakan distribusi harga produk lebih banyak pada range yang tinggi(negative skew)"
   ]
  },
  {
   "cell_type": "code",
   "execution_count": 9,
   "metadata": {},
   "outputs": [
    {
     "name": "stdout",
     "output_type": "stream",
     "text": [
      "Upper Boundary: 2023.50\n",
      "Lower Boundary: 2011.50\n",
      "Percentage of outliers: 1.53%%\n"
     ]
    }
   ],
   "source": [
    "#karena nilai skew kurang dari -0.5 maka menggunakan metode tukey rule\n",
    "q1 = df['Year'].quantile(0.25)\n",
    "q3 = df['Year'].quantile(0.75)\n",
    "iqr = q3-q1\n",
    "\n",
    "up_bound = q3 + 1.5*iqr\n",
    "low_bound = q1 - 1.5*iqr\n",
    "\n",
    "print(f'Upper Boundary: {up_bound:.2f}' )\n",
    "print(f'Lower Boundary: {low_bound:.2f}')\n",
    "\n",
    "outlier = df['Year'][(df['Year']<low_bound) | (df['Year']>up_bound)]\n",
    "df = no_outlier = df[(df['Year']>=low_bound) & (df['Year']<=up_bound)]\n",
    "\n",
    "print(f'Percentage of outliers: {len(outlier)*100/len(df[\"Price\"]):.2f}%%')"
   ]
  },
  {
   "cell_type": "markdown",
   "metadata": {},
   "source": [
    "batas atas oulier adalah 2023 dan batas bawah outlier adalah 2012. maka data yang digunakan adalah data mobil bekas pada tahun 2012 - 2020 dikarenakan tahun produksi mobil di data set hanya sampai 2020 "
   ]
  },
  {
   "cell_type": "code",
   "execution_count": null,
   "metadata": {},
   "outputs": [],
   "source": [
    "df.to_csv('usedcar.csv', index = False)"
   ]
  },
  {
   "cell_type": "markdown",
   "metadata": {},
   "source": [
    "# V. Analisis dan Perhitungan"
   ]
  },
  {
   "cell_type": "code",
   "execution_count": null,
   "metadata": {},
   "outputs": [
    {
     "data": {
      "text/html": [
       "<div>\n",
       "<style scoped>\n",
       "    .dataframe tbody tr th:only-of-type {\n",
       "        vertical-align: middle;\n",
       "    }\n",
       "\n",
       "    .dataframe tbody tr th {\n",
       "        vertical-align: top;\n",
       "    }\n",
       "\n",
       "    .dataframe thead th {\n",
       "        text-align: right;\n",
       "    }\n",
       "</style>\n",
       "<table border=\"1\" class=\"dataframe\">\n",
       "  <thead>\n",
       "    <tr style=\"text-align: right;\">\n",
       "      <th></th>\n",
       "      <th>Year</th>\n",
       "      <th>Price</th>\n",
       "      <th>Mileage</th>\n",
       "      <th>Tax</th>\n",
       "      <th>Fuel Efficiency</th>\n",
       "      <th>Engine Size</th>\n",
       "    </tr>\n",
       "  </thead>\n",
       "  <tbody>\n",
       "    <tr>\n",
       "      <th>count</th>\n",
       "      <td>12914.000000</td>\n",
       "      <td>12914.000000</td>\n",
       "      <td>12914.000000</td>\n",
       "      <td>12914.000000</td>\n",
       "      <td>12914.000000</td>\n",
       "      <td>12914.000000</td>\n",
       "    </tr>\n",
       "    <tr>\n",
       "      <th>mean</th>\n",
       "      <td>2017.453384</td>\n",
       "      <td>24962.586882</td>\n",
       "      <td>21051.314000</td>\n",
       "      <td>127.276986</td>\n",
       "      <td>55.399164</td>\n",
       "      <td>2.063737</td>\n",
       "    </tr>\n",
       "    <tr>\n",
       "      <th>std</th>\n",
       "      <td>1.758396</td>\n",
       "      <td>11662.260722</td>\n",
       "      <td>19660.462264</td>\n",
       "      <td>59.730590</td>\n",
       "      <td>14.992204</td>\n",
       "      <td>0.559655</td>\n",
       "    </tr>\n",
       "    <tr>\n",
       "      <th>min</th>\n",
       "      <td>2012.000000</td>\n",
       "      <td>5250.000000</td>\n",
       "      <td>1.000000</td>\n",
       "      <td>0.000000</td>\n",
       "      <td>1.100000</td>\n",
       "      <td>0.000000</td>\n",
       "    </tr>\n",
       "    <tr>\n",
       "      <th>25%</th>\n",
       "      <td>2016.000000</td>\n",
       "      <td>17599.000000</td>\n",
       "      <td>6000.000000</td>\n",
       "      <td>125.000000</td>\n",
       "      <td>45.600000</td>\n",
       "      <td>1.600000</td>\n",
       "    </tr>\n",
       "    <tr>\n",
       "      <th>50%</th>\n",
       "      <td>2018.000000</td>\n",
       "      <td>22592.000000</td>\n",
       "      <td>14978.500000</td>\n",
       "      <td>145.000000</td>\n",
       "      <td>56.500000</td>\n",
       "      <td>2.000000</td>\n",
       "    </tr>\n",
       "    <tr>\n",
       "      <th>75%</th>\n",
       "      <td>2019.000000</td>\n",
       "      <td>28995.000000</td>\n",
       "      <td>30816.750000</td>\n",
       "      <td>145.000000</td>\n",
       "      <td>64.200000</td>\n",
       "      <td>2.100000</td>\n",
       "    </tr>\n",
       "    <tr>\n",
       "      <th>max</th>\n",
       "      <td>2020.000000</td>\n",
       "      <td>159999.000000</td>\n",
       "      <td>240494.000000</td>\n",
       "      <td>580.000000</td>\n",
       "      <td>217.300000</td>\n",
       "      <td>6.200000</td>\n",
       "    </tr>\n",
       "  </tbody>\n",
       "</table>\n",
       "</div>"
      ],
      "text/plain": [
       "               Year          Price        Mileage           Tax  \\\n",
       "count  12914.000000   12914.000000   12914.000000  12914.000000   \n",
       "mean    2017.453384   24962.586882   21051.314000    127.276986   \n",
       "std        1.758396   11662.260722   19660.462264     59.730590   \n",
       "min     2012.000000    5250.000000       1.000000      0.000000   \n",
       "25%     2016.000000   17599.000000    6000.000000    125.000000   \n",
       "50%     2018.000000   22592.000000   14978.500000    145.000000   \n",
       "75%     2019.000000   28995.000000   30816.750000    145.000000   \n",
       "max     2020.000000  159999.000000  240494.000000    580.000000   \n",
       "\n",
       "       Fuel Efficiency   Engine Size  \n",
       "count     12914.000000  12914.000000  \n",
       "mean         55.399164      2.063737  \n",
       "std          14.992204      0.559655  \n",
       "min           1.100000      0.000000  \n",
       "25%          45.600000      1.600000  \n",
       "50%          56.500000      2.000000  \n",
       "75%          64.200000      2.100000  \n",
       "max         217.300000      6.200000  "
      ]
     },
     "execution_count": 137,
     "metadata": {},
     "output_type": "execute_result"
    }
   ],
   "source": [
    "#menampilkan data statistik descriptive pada setiap kolom numerik\n",
    "df.describe()"
   ]
  },
  {
   "cell_type": "markdown",
   "metadata": {},
   "source": [
    "### 1.berapa rata rata harga mobil bekas mercedes? "
   ]
  },
  {
   "cell_type": "code",
   "execution_count": null,
   "metadata": {},
   "outputs": [
    {
     "name": "stdout",
     "output_type": "stream",
     "text": [
      "average price:24962.59\n",
      "median price : 22592.00\n"
     ]
    }
   ],
   "source": [
    "# Rata Rata harga mobil Mercedes\n",
    "print(f'average price: {df[\"Price\"].mean():.2f}')\n",
    "print(f'median price : {df[\"Price\"].median():.2f}')"
   ]
  },
  {
   "cell_type": "markdown",
   "metadata": {},
   "source": [
    "harga rata rata mobil bekas mercedes adalah 24962 euro dan median di angka 22592 euro. berdasarkan perhitungan rata rata berada diatas median maka dapat disimpulkan ada beberapa mobil bekas yang harganya jauh lebih tinggi dibandingkan harga mobil bekas pada umumnya"
   ]
  },
  {
   "cell_type": "markdown",
   "metadata": {},
   "source": [
    "### 2.Berapa rata rata harga mobil di setiap tahun produksinya?"
   ]
  },
  {
   "cell_type": "code",
   "execution_count": null,
   "metadata": {},
   "outputs": [
    {
     "name": "stdout",
     "output_type": "stream",
     "text": [
      "Year\n",
      "2012    10845.14\n",
      "2013    11939.84\n",
      "2014    14042.94\n",
      "2015    16737.31\n",
      "2016    19304.53\n",
      "2017    21518.36\n",
      "2018    25720.16\n",
      "2019    31290.02\n",
      "2020    35425.53\n",
      "Name: Price, dtype: float64\n"
     ]
    }
   ],
   "source": [
    "# Rata rata harga mobil bekas mercedes per tahun\n",
    "avg_per_year= df.groupby('Year')['Price'].mean().round(2)\n",
    "print(avg_per_year)"
   ]
  },
  {
   "cell_type": "markdown",
   "metadata": {},
   "source": [
    "Berdasarkan perhitungan avg per year dapat disimpulkan dari tahun ke tahun harga mobil bekas terus meningkat. tahun produksi mobil lebih muda juga berpengaruh terhadap harga jika tahun produksi mobil lebih baru maka hargapun lebih mahal."
   ]
  },
  {
   "cell_type": "code",
   "execution_count": null,
   "metadata": {},
   "outputs": [
    {
     "data": {
      "text/plain": [
       "<Axes: xlabel='Year'>"
      ]
     },
     "execution_count": 169,
     "metadata": {},
     "output_type": "execute_result"
    },
    {
     "data": {
      "image/png": "[encoded data removed]",
      "text/plain": [
       "<Figure size 640x480 with 1 Axes>"
      ]
     },
     "metadata": {},
     "output_type": "display_data"
    }
   ],
   "source": [
    "avg_per_year.plot(kind='bar')"
   ]
  },
  {
   "cell_type": "markdown",
   "metadata": {},
   "source": [
    "semakin baru tahun produksi mobil harga rata ratanya semakin mahal"
   ]
  },
  {
   "cell_type": "markdown",
   "metadata": {},
   "source": [
    "### 3.Apakah tahun produksi berpengaruh pada harga mobil?"
   ]
  },
  {
   "cell_type": "code",
   "execution_count": null,
   "metadata": {},
   "outputs": [
    {
     "name": "stdout",
     "output_type": "stream",
     "text": [
      "Nilai Korelasi Spearman: 0.71\n",
      "P-value: 0.00\n"
     ]
    }
   ],
   "source": [
    "'''\n",
    "perhitungan korelasi antara tahun dan harga mobil\n",
    "H0 = Tidak ada hubungan antara tahun produksi dan harga\n",
    "H1 = ada hubungan antara tahun produksi dan harga\n",
    "'''\n",
    "corr_rho, p_val_s = stats.spearmanr(df['Price'], df['Year'])\n",
    "\n",
    "print(f'Nilai Korelasi Spearman: {corr_rho:.2f}')\n",
    "print(f'P-value: {p_val_s:.2f}')"
   ]
  },
  {
   "cell_type": "markdown",
   "metadata": {},
   "source": [
    "nilai Spearman menunjukan angka 0.71 yang berarti menunjukan korelasi yang cukup kuat dan tahun mobil lebih baru maka harganya cenderung akan lebih tinggi.  \n",
    "karena nilai p value kurang dari 0.05 kita menolak H0 maka tahun produksi mempunyai hubungan dengan harga mobil"
   ]
  },
  {
   "cell_type": "markdown",
   "metadata": {},
   "source": [
    "### 4.Apakah jumlah mileage berpengaruh pada harga mobil? "
   ]
  },
  {
   "cell_type": "code",
   "execution_count": null,
   "metadata": {},
   "outputs": [
    {
     "name": "stdout",
     "output_type": "stream",
     "text": [
      "Nilai Korelasi Spearman: -0.71\n",
      "P-value: 0.00\n"
     ]
    }
   ],
   "source": [
    "'''\n",
    "perhitungan korelasi antara mileage dan harga mobil\n",
    "H0 = Tidak ada hubungan antara mileage dan harga\n",
    "H1 = ada hubungan antara mileage dan harga\n",
    "'''\n",
    "corr_rho, p_val_s = stats.spearmanr(df['Price'], df['Mileage'])\n",
    "print(f'Nilai Korelasi Spearman: {corr_rho:.2f}')\n",
    "print(f'P-value: {p_val_s:.2f}')"
   ]
  },
  {
   "cell_type": "markdown",
   "metadata": {},
   "source": [
    "nilai Spearman menunjukan angka -0.71 yang berarti menunjukan korelasi yang kuat dan jika harga mobil tinggi maka Mileage cenderung rendah atau sebaliknya \n",
    "karena nilai p value kurang dari 0.05 kita menolak H0 maka mileage mempunyai hubungan dengan harga mobil"
   ]
  },
  {
   "cell_type": "code",
   "execution_count": null,
   "metadata": {},
   "outputs": [
    {
     "data": {
      "image/png": "[encoded data removed]",
      "text/plain": [
       "<Figure size 640x480 with 1 Axes>"
      ]
     },
     "metadata": {},
     "output_type": "display_data"
    }
   ],
   "source": [
    "fig, ax = plt.subplots()\n",
    "\n",
    "ax.set_title('Mileage vs Price')\n",
    "ax.set_xlabel('Mileage')\n",
    "ax.set_ylabel('Price')\n",
    "\n",
    "df.plot(kind='scatter', x='Mileage', y='Price', ax=ax)\n",
    "plt.show()"
   ]
  },
  {
   "cell_type": "markdown",
   "metadata": {},
   "source": [
    "berdasarkan scatter plot distribusi harga mobil dipengaruhi oleh Mileage dan ada beberapa harga mobil yang diluar outlier\n",
    "pada mobil yang memiliki mileage dibawah 100000 terlihat mileage berpengaruh jika lebih muda tahunnya maka harga mobilnya akan lebih mahal terutama saat mileage dibawah 50000 terlihat perbedaan harga yang cukup signifikan\n",
    "pada mobil yang memiliki mileage diatas 100000 telihat perubahan harga mobil tidak terlalu terlalu signifikan dan cenderung stabil\n"
   ]
  },
  {
   "cell_type": "markdown",
   "metadata": {},
   "source": [
    "### 5.Apakah model mobil dan jenis transmisi berpengaruh pada harga mobil?"
   ]
  },
  {
   "cell_type": "code",
   "execution_count": null,
   "metadata": {},
   "outputs": [
    {
     "name": "stdout",
     "output_type": "stream",
     "text": [
      "P-value: 0.0\n"
     ]
    }
   ],
   "source": [
    "'''\n",
    "perhitungan korelasi antara model dan harga mobil\n",
    "H0 = Tidak ada hubungan model dan transmisi mobil dengan harga\n",
    "H1 = ada hubungan model dan transmisi mobil dengan harga\n",
    "'''\n",
    "group1 = df.groupby(['Model', 'Transmission'])['Price'].apply(list)\n",
    "p_val = stats.f_oneway(*group1)\n",
    "print('P-value:' ,round(p_val.pvalue, 2))"
   ]
  },
  {
   "cell_type": "markdown",
   "metadata": {},
   "source": [
    "karena nilai p value kurang dari 0.05 kita menolak H0 maka model mobil dan Jenis transmisi mempunyai hubungan dengan harga mobil"
   ]
  },
  {
   "cell_type": "markdown",
   "metadata": {},
   "source": [
    "# VI. Pengambilan Keputusan"
   ]
  },
  {
   "cell_type": "markdown",
   "metadata": {},
   "source": [
    "Setekah dilakukan analisis ternyata harga mobil tidak dipengaruhi oleh salah satu faktor saja. Harga mobil dapat dipengaruhi berdasarkan model, jenis transmisi, jumlah mileage, dan tahun produksinya. Model mobil berpengaruh dikarenakan pabrik otomotif membuat mobil berdasarkan kelasnya mulai dari harga yang murah sampai mahal. jenis transmisi juga berpengaruh untuk yang termurah ada pada transmisi Manual. Jumlah Mileage berpengaruh jika semakin sedikit jumlah mileagenya harga mobil semakin meningkat dan yang terakhir pada tahun produksi, jika tahun produksi semakin baru maka harga mobil lebih mahal. "
   ]
  },
  {
   "cell_type": "markdown",
   "metadata": {},
   "source": [
    "#"
   ]
  }
 ],
 "metadata": {
  "kernelspec": {
   "display_name": "base",
   "language": "python",
   "name": "python3"
  },
  "language_info": {
   "codemirror_mode": {
    "name": "ipython",
    "version": 3
   },
   "file_extension": ".py",
   "mimetype": "text/x-python",
   "name": "python",
   "nbconvert_exporter": "python",
   "pygments_lexer": "ipython3",
   "version": "3.12.7"
  }
 },
 "nbformat": 4,
 "nbformat_minor": 2
}
